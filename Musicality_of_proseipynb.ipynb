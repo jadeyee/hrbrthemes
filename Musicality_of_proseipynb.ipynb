{
  "nbformat": 4,
  "nbformat_minor": 0,
  "metadata": {
    "colab": {
      "name": "Musicality of proseipynb",
      "provenance": [],
      "collapsed_sections": [],
      "include_colab_link": true
    },
    "kernelspec": {
      "name": "python3",
      "display_name": "Python 3"
    }
  },
  "cells": [
    {
      "cell_type": "markdown",
      "metadata": {
        "id": "view-in-github",
        "colab_type": "text"
      },
      "source": [
        "<a href=\"https://colab.research.google.com/github/jadeyee/hrbrthemes/blob/master/Musicality_of_proseipynb.ipynb\" target=\"_parent\"><img src=\"https://colab.research.google.com/assets/colab-badge.svg\" alt=\"Open In Colab\"/></a>"
      ]
    },
    {
      "cell_type": "code",
      "metadata": {
        "id": "obOapgoUaLqi",
        "colab_type": "code",
        "outputId": "3e13e710-0557-498e-9790-0cb3241ad4af",
        "colab": {
          "base_uri": "https://localhost:8080/",
          "height": 309
        }
      },
      "source": [
        "!pip install syllables\n",
        "!pip install pronouncing"
      ],
      "execution_count": 0,
      "outputs": [
        {
          "output_type": "stream",
          "text": [
            "Collecting syllables\n",
            "  Downloading https://files.pythonhosted.org/packages/16/d9/81a31f640ccf405fdfd0eae8eebfc2579b438804dbf34dc03cad3e76169a/syllables-0.1.0-py2.py3-none-any.whl\n",
            "Installing collected packages: syllables\n",
            "Successfully installed syllables-0.1.0\n",
            "Collecting pronouncing\n",
            "  Downloading https://files.pythonhosted.org/packages/7f/c6/9dc74a3ddca71c492e224116b6654592bfe5717b4a78582e4d9c3345d153/pronouncing-0.2.0.tar.gz\n",
            "Collecting cmudict>=0.4.0\n",
            "\u001b[?25l  Downloading https://files.pythonhosted.org/packages/5d/72/e5f1886d1080a69da7dbc9bc9b9a939b0eb8a2720131351590d76b0ea671/cmudict-0.4.3-py2.py3-none-any.whl (938kB)\n",
            "\u001b[K     |████████████████████████████████| 942kB 4.5MB/s \n",
            "\u001b[?25hBuilding wheels for collected packages: pronouncing\n",
            "  Building wheel for pronouncing (setup.py) ... \u001b[?25l\u001b[?25hdone\n",
            "  Created wheel for pronouncing: filename=pronouncing-0.2.0-py2.py3-none-any.whl size=6224 sha256=857ec5aad0ace7e755419c38eb87a49e05e718b8090c8d8cdec03dad04fc5348\n",
            "  Stored in directory: /root/.cache/pip/wheels/81/fd/e8/fb1a226f707c7e20dbed4c43f81b819d279ffd3b0e2f06ee13\n",
            "Successfully built pronouncing\n",
            "Installing collected packages: cmudict, pronouncing\n",
            "Successfully installed cmudict-0.4.3 pronouncing-0.2.0\n"
          ],
          "name": "stdout"
        }
      ]
    },
    {
      "cell_type": "code",
      "metadata": {
        "id": "rimplQh5VpyG",
        "colab_type": "code",
        "colab": {}
      },
      "source": [
        "import syllables\n",
        "import seaborn\n",
        "import pandas as pd\n",
        "import pronouncing\n",
        "from sklearn.pipeline import make_pipeline\n",
        "from sklearn.feature_extraction.text import TfidfVectorizer\n",
        "from google.colab import files\n",
        "\n",
        "\n",
        "class TextFragments:\n",
        "  ''' \n",
        "  This turns a block of text into a dataframe. The idea is to save things\n",
        "  like sentence phrasing. This also makes it possible to do 'dumb' feature\n",
        "  extraction.  \n",
        "  ''' \n",
        "  # Initializer / Instance Attributes\n",
        "  def __init__(self):\n",
        "      self.text = None\n",
        "      self.data = None\n",
        "\n",
        "  def __split(self,st, seps, defsep=\"***\"):\n",
        "    for s in seps: \n",
        "      st = st.replace(s, defsep)\n",
        "    return st.split(defsep)\n",
        "\n",
        "  def __merge_two_dicts(self,x, y):\n",
        "    z = x.copy()   # start with x's keys and values\n",
        "    z.update(y)    # modifies z with y's keys and values & returns None\n",
        "    return z\n",
        "\n",
        "  \n",
        "  def fragment(self,text):\n",
        "\n",
        "    speechSections = text.replace('’',\"'\").split('\\n\\n')\n",
        "    speechSectionsLists = []\n",
        "    data = {}\n",
        "    splitPunctuation = ['.',';',',','!','?','\\n', '-','–',':']\n",
        "    import re\n",
        "    pattern = re.compile(\"\".join(splitPunctuation))\n",
        "    sectionNumber = 0\n",
        "    data = []\n",
        "    for section in speechSections:\n",
        "      speechSectionLists=[]\n",
        "      sentences = section.split('.')\n",
        "      sentenceNumber = 0\n",
        "      for sentence in sentences:\n",
        "        punctuation = pattern.findall(sentence)\n",
        "        phrases = self.__split(sentence, splitPunctuation)\n",
        "        phraseNumber = 0\n",
        "        for phrase in phrases: \n",
        "          if phrase == '':\n",
        "            continue\n",
        "          words = phrase.strip().split(' ')\n",
        "          wordNumber=0\n",
        "          for word in words:\n",
        "            wordBlob = {  # Probably better to make relational \n",
        "                'text': word,\n",
        "                'wordNumber': wordNumber,\n",
        "                'phraseNumber': phraseNumber,\n",
        "                'sentenceNumber': sentenceNumber,\n",
        "                'sectionNumber':sectionNumber}\n",
        "            data.append(wordBlob)\n",
        "            wordNumber += 1\n",
        "          phraseNumber += 1\n",
        "        sentenceNumber += 1\n",
        "      sectionNumber += 1\n",
        "    self.text = text\n",
        "    self.data = data\n",
        "\n",
        "  def aggregate(self, \n",
        "                columns = ['syllables', 'words'], \n",
        "                grain = ['sectionNumber','sentenceNumber','phraseNumber'], \n",
        "                concatColumns = ['text']):\n",
        "    grainLevelTmp = pd.DataFrame(self.data)\n",
        "    grainLevel = grainLevelTmp.groupby(grain).sum()[columns]\n",
        "    for concatColumn in concatColumns: \n",
        "      grainLevelTmp[concatColumn] = grainLevelTmp.groupby(grain)[concatColumn].transform(lambda x: ' '.join(x))\n",
        "      grainLevel[concatColumn] = grainLevelTmp.groupby(grain)[concatColumn].max()\n",
        "    return grainLevel\n",
        "    "
      ],
      "execution_count": 0,
      "outputs": []
    },
    {
      "cell_type": "code",
      "metadata": {
        "id": "ULO8vkY2esKJ",
        "colab_type": "code",
        "colab": {}
      },
      "source": [
        ""
      ],
      "execution_count": 0,
      "outputs": []
    },
    {
      "cell_type": "code",
      "metadata": {
        "id": "bZYDalhgnAjl",
        "colab_type": "code",
        "outputId": "4134dd6c-bf5b-43f9-90b8-51ae77cbe2d0",
        "colab": {
          "base_uri": "https://localhost:8080/",
          "height": 51
        }
      },
      "source": [
        ""
      ],
      "execution_count": 0,
      "outputs": [
        {
          "output_type": "execute_result",
          "data": {
            "text/plain": [
              "<5x145 sparse matrix of type '<class 'numpy.float64'>'\n",
              "\twith 157 stored elements in Compressed Sparse Row format>"
            ]
          },
          "metadata": {
            "tags": []
          },
          "execution_count": 202
        }
      ]
    },
    {
      "cell_type": "code",
      "metadata": {
        "id": "vXbQa_PYdx8H",
        "colab_type": "code",
        "colab": {}
      },
      "source": [
        "######## FEATURE EXTRACTION... Add this to text fragments. \n",
        "def quantify(word):\n",
        "  # TO DO: Confirm that it is a word \n",
        "  s = syllables.estimate(word)\n",
        "  phones_list = pronouncing.phones_for_word(word) # TO DO: Remove (\"' and other punctuation\n",
        "  if len(phones_list) > 0: \n",
        "    phones = phones_list[0]\n",
        "    stresses = pronouncing.stresses(phones_list[0])\n",
        "  else: \n",
        "    phones = 'MISSING'\n",
        "    stresses = '9'\n",
        "    print(\"The word \" + str(word) + \" is not in the CMU library\")\n",
        "  quantification = {\n",
        "      'syllables':s,\n",
        "      'phones':phones,\n",
        "      'stresses':stresses,\n",
        "      'words':len(word.strip().split( ))\n",
        "  }\n",
        "  if s==None:\n",
        "    return quantification.fromkeys(quantification.iterkeys(), 0)\n",
        "  return quantification\n",
        "\n",
        "# Consider phrase or sentence-level patterns, e.g. repetition of specific words or sounds. \n",
        "######## </FEATURE EXTRACTION>\n",
        "\n",
        "def download(finalFile, fname):\n",
        "  finalFile.to_csv(fname)\n",
        "  files.download(fname)\n",
        "\n",
        "\n",
        "def extractFeatures(s):\n",
        "  ''' \n",
        "  Temporary way to extract features.\n",
        "  '''\n",
        "  pipe = make_pipeline(\n",
        "      TfidfVectorizer()#analyzer='char')\n",
        "      )\n",
        "  d=pd.DataFrame(s.data)\n",
        "  tdifphones = pipe.fit_transform(d.text)\n",
        "  tfidnames=[a.strip().upper() for a in pipe[0].get_feature_names()]\n",
        "  tfidAsDf = pd.DataFrame.sparse.from_spmatrix(tdifphones, columns=tfidnames)\n",
        "  tmp1 = pd.DataFrame([quantify(t) for t in d.text.values])\n",
        "  finalFile = tmp1.merge(tfidAsDf, left_index=True, right_index=True).merge(d, left_index=True, right_index=True)\n",
        "  return finalFile"
      ],
      "execution_count": 0,
      "outputs": []
    },
    {
      "cell_type": "code",
      "metadata": {
        "id": "3cqRdSr-WD5t",
        "colab_type": "code",
        "outputId": "d9e9e5b7-fad2-4884-e633-9df8d1e6237c",
        "colab": {
          "base_uri": "https://localhost:8080/",
          "height": 680
        }
      },
      "source": [
        "import requests as r\n",
        "\n",
        "speechUrls=[\"https://raw.githubusercontent.com/jadeyee/speeches/master/mlk_dream\", \n",
        "            \"https://raw.githubusercontent.com/jadeyee/speeches/master/faulker_nobel\",\n",
        "            \"https://raw.githubusercontent.com/jadeyee/speeches/master/niels_bohr_physics\",\n",
        "            \"https://raw.githubusercontent.com/jadeyee/speeches/master/gabriela_mistral_poetry\",\n",
        "            \"https://raw.githubusercontent.com/jadeyee/speeches/master/Ernest_Hemingway_literature\",\n",
        "            \"https://raw.githubusercontent.com/jadeyee/speeches/master/elie_wiesel_peace\"]\n",
        "\n",
        "speechFiles = {}\n",
        "\n",
        "for speechUrl in speechUrls: \n",
        "  text = r.get(speechUrl).text\n",
        "  s = TextFragments()\n",
        "  s.fragment(text)\n",
        "  finalFile = extractFeatures(s)\n",
        "  speechFiles[str(speechUrl.split('/')[-1])] = finalFile\n",
        "\n",
        "\n",
        "#fname = str(speechUrl.split('/')[-1]) + \".csv\"\n",
        "#download(finalFile)\n",
        "\n"
      ],
      "execution_count": 0,
      "outputs": [
        {
          "output_type": "stream",
          "text": [
            "The word manacles is not in the CMU library\n",
            "The word 'We is not in the CMU library\n",
            "The word \" is not in the CMU library\n",
            "The word interposition is not in the CMU library\n",
            "The word discords is not in the CMU library\n",
            "The word )mowing is not in the CMU library\n",
            "The word curvaceous is not in the CMU library\n",
            "The word \"Free is not in the CMU library\n",
            "The word \" is not in the CMU library\n",
            "The word basest is not in the CMU library\n",
            "The word griefs is not in the CMU library\n",
            "The word relearns is not in the CMU library\n",
            "The word dingdong is not in the CMU library\n",
            "The word clanged is not in the CMU library\n",
            "The word tideless is not in the CMU library\n",
            "The word Highnesses is not in the CMU library\n",
            "The word Nobel's is not in the CMU library\n",
            "The word munificent is not in the CMU library\n",
            "The word elucidating is not in the CMU library\n",
            "The word fruitfulness is not in the CMU library\n",
            "The word availing is not in the CMU library\n",
            "The word manifoldly is not in the CMU library\n",
            "The word Gajardo is not in the CMU library\n",
            "The word palliate is not in the CMU library\n",
            "The word … is not in the CMU library\n",
            "The word eternities is not in the CMU library\n",
            "The word “Can is not in the CMU library\n",
            "The word ” is not in the CMU library\n",
            "The word “Tell is not in the CMU library\n",
            "The word ” is not in the CMU library\n",
            "The word “What is not in the CMU library\n",
            "The word ” is not in the CMU library\n",
            "The word … is not in the CMU library\n",
            "The word Sakharov‘s is not in the CMU library\n",
            "The word Biegun's is not in the CMU library\n",
            "The word Walesa‘s is not in the CMU library\n",
            "The word Mandela‘s is not in the CMU library\n",
            "The word Nobel's is not in the CMU library\n",
            "The word Aarvik is not in the CMU library\n"
          ],
          "name": "stdout"
        }
      ]
    },
    {
      "cell_type": "code",
      "metadata": {
        "id": "y9MoPXnOWGo_",
        "colab_type": "code",
        "colab": {}
      },
      "source": [
        "# grain = ['sectionNumber']\n",
        "# #grain = ['sectionNumber','sentenceNumber','phraseNumber']\n",
        "# functionColumns = []\n",
        "# concatColumns = ['text']\n",
        "\n",
        "# df = s.aggregate(functionColumns, grain, concatColumns)"
      ],
      "execution_count": 0,
      "outputs": []
    },
    {
      "cell_type": "code",
      "metadata": {
        "id": "nn88SNsInVWM",
        "colab_type": "code",
        "outputId": "632c5100-9e5a-473d-cd68-623316b5da7e",
        "colab": {
          "base_uri": "https://localhost:8080/",
          "height": 1000
        }
      },
      "source": [
        ""
      ],
      "execution_count": 0,
      "outputs": [
        {
          "output_type": "execute_result",
          "data": {
            "text/plain": [
              "[array([1, 1, 2, 1, 1, 1, 1, 2, 1, 1, 1, 1, 1, 1, 3, 1, 1, 2, 4, 1, 2, 1,\n",
              "        1, 3, 1, 1, 2, 1, 2, 1, 2, 1, 1, 3, 1, 2, 3, 2, 1, 1, 2, 2, 1, 4,\n",
              "        4, 1, 3, 2, 1, 1, 1, 1, 3, 1, 1, 1, 1, 2, 1, 2, 2, 1, 1, 1, 2, 1,\n",
              "        1, 2, 1, 3, 4, 1, 1, 1, 1, 1, 2, 1, 1, 1, 1, 1, 1, 1, 4, 1, 2, 2,\n",
              "        1, 2, 1, 2, 1, 1, 1, 1, 1, 2, 1, 2, 1, 1, 1, 1, 2, 1, 1, 2, 2, 1,\n",
              "        1, 3, 1, 4, 1, 1, 1, 1, 5, 1, 2, 1, 2, 1, 2, 2, 1, 1, 3, 2, 1, 3,\n",
              "        1, 1, 1, 1, 1, 1, 2, 1, 3, 4, 1, 2, 1, 2, 1, 2, 1, 1, 3, 1, 1, 2,\n",
              "        1, 3, 3, 1, 1, 2, 1, 3, 1, 1, 1, 1, 1, 1, 1, 1, 1, 1, 3, 1, 1, 2,\n",
              "        3, 1, 1, 2, 3, 1, 1, 1, 1, 1, 1, 1, 1, 1, 1, 1, 1, 4, 2, 1, 4, 1,\n",
              "        1, 2, 1, 1, 2, 3, 1, 1, 1, 1, 1, 2, 2, 4, 1, 1, 2, 1, 1, 3, 1, 1,\n",
              "        1, 1, 1, 1, 3, 1, 1, 1, 1, 1, 1, 2, 2, 1, 1, 2, 1, 1, 4, 1, 3, 2,\n",
              "        1, 2, 1, 2, 4, 1, 1, 1, 3, 2, 1, 2, 1, 1, 1, 2, 1, 3, 1, 4, 1, 1,\n",
              "        1, 2, 1, 3, 2, 1, 5, 2, 3, 3, 1, 1, 2, 1, 1, 1, 1, 1, 3, 1, 1, 2,\n",
              "        3, 2, 1, 1, 2, 1, 1, 3, 1, 4, 1, 1, 3, 1, 2, 4, 1, 1, 1, 1, 1, 1,\n",
              "        2, 1, 1, 2, 2, 1, 2, 1, 1, 2, 2, 1, 4, 1, 1, 3, 2, 2, 1, 1, 1, 1,\n",
              "        1, 3, 1, 1, 3, 1, 1, 1, 1, 3, 1, 2, 1, 1, 1, 1, 4, 1, 2, 1, 3, 1,\n",
              "        1, 1, 1, 1, 1, 1, 1, 1, 2, 2, 1, 1, 3, 1, 1, 1, 1, 1, 1, 2, 1, 1,\n",
              "        2, 1, 1, 1, 1, 1, 1, 1, 1, 2, 1, 1, 1, 1, 1, 2, 1, 1, 1, 1, 3, 1,\n",
              "        1, 1, 2, 2, 2, 1, 1, 1, 1, 1, 1, 2, 1, 1, 1, 1, 1, 1, 2, 1, 1, 1,\n",
              "        2, 2, 1, 1, 1, 1, 2, 2, 2, 1, 1, 2, 1, 1, 3, 1, 1, 2, 1, 3, 1, 1,\n",
              "        1, 1, 1, 2, 1, 2, 1, 2, 1, 4, 1, 2, 3, 1, 1, 1, 1, 4, 3, 1, 1, 1,\n",
              "        1, 3, 1, 1, 3, 2, 1, 2, 1, 2, 1, 3, 1, 1, 1, 1, 1, 2, 2, 1, 2, 1,\n",
              "        1, 1, 1, 2, 2, 1, 1, 1, 1, 2, 1, 1, 2, 1, 1, 1, 1, 1, 1, 2, 1, 1,\n",
              "        3, 1, 1, 1, 1, 2, 1, 1, 1, 1, 1, 2, 1, 1, 1, 3, 1, 1, 2, 2, 1, 1,\n",
              "        3, 2, 1, 1, 2, 1, 1, 1, 1, 5, 1, 5, 2, 1, 1, 2, 1, 3, 2, 1, 1, 1,\n",
              "        1, 1, 1, 1, 2, 1, 1, 1, 1, 2, 2, 1, 1, 2, 1, 1, 2, 1, 2, 1, 1, 1,\n",
              "        1, 2, 1, 1, 1, 1, 1, 2, 1, 3, 2, 1, 1, 3, 3, 1, 1, 2, 1, 1, 1, 1,\n",
              "        1, 1, 2, 1, 1, 1, 2, 2, 1, 1, 1, 1, 1, 3, 1, 1, 1, 1, 3, 1, 1, 1,\n",
              "        1, 1, 1, 3, 1, 1, 1, 1, 1, 1, 1, 1, 1, 1, 1, 1, 1, 1, 1, 1, 1, 1,\n",
              "        1, 1, 1, 1, 2, 1, 1, 1, 1, 1, 2, 1, 2, 1, 2, 1, 1, 1, 1, 1, 1, 1,\n",
              "        1, 2, 1, 2, 1, 3, 2, 1, 1, 2, 2, 1, 3, 3, 1, 3, 1, 1, 1, 1, 1, 1,\n",
              "        2, 1, 1, 3, 1, 3, 1, 2, 3, 1, 1, 1, 1, 3, 1, 1, 1, 1, 2, 3, 2, 1,\n",
              "        1, 1, 1, 1, 2, 1, 1, 1, 1, 1, 1, 2, 1, 1, 1, 2, 1, 1, 1, 3, 2, 1,\n",
              "        1, 3, 1, 2, 1, 1, 1, 2, 2, 1, 1, 1, 1, 2, 1, 1, 1, 2, 3, 1, 4, 1,\n",
              "        2, 1, 1, 1, 1, 2, 2, 1, 4, 1, 2, 1, 1, 1, 3, 2, 1, 4, 1, 1, 2, 2,\n",
              "        1, 2, 1, 1, 1, 2, 2, 1, 2, 1, 2, 1, 1, 2, 2, 1, 3, 1, 2, 1, 1, 3,\n",
              "        1, 1, 3, 1, 4, 1, 3, 4, 1, 2, 1, 1, 1, 1, 2, 1, 1, 2, 2, 1, 1, 1,\n",
              "        1, 1, 1, 1, 1, 3, 3, 1, 2, 1, 3, 2, 1, 3, 2, 1, 1, 1, 2, 1, 1, 1,\n",
              "        1, 1, 1, 1, 1, 1, 2, 1, 1, 1, 2, 1, 1, 1, 3, 3, 1, 3, 1, 1, 2, 1,\n",
              "        1, 1, 1, 1, 1, 1, 1, 1, 1, 1, 2, 3, 1, 1, 1, 1, 1, 1, 1, 1, 3, 2,\n",
              "        1, 1, 1, 1]),\n",
              " array([2, 1, 3, 1, 1, 1, 1, 2, 1, 1, 1, 1, 1, 1, 1, 1, 1, 1, 1, 1, 1, 2,\n",
              "        1, 1, 1, 3, 1, 1, 1, 1, 2, 2, 1, 1, 2, 1, 1, 1, 1, 1, 2, 1, 1, 2,\n",
              "        1, 1, 1, 3, 1, 1, 2, 2, 3, 1, 1, 1, 2, 3, 1, 1, 2, 1, 2, 1, 1, 1,\n",
              "        1, 1, 1, 1, 3, 1, 1, 1, 4, 1, 1, 2, 1, 1, 1, 5, 1, 1, 3, 1, 5, 1,\n",
              "        1, 3, 1, 1, 1, 1, 1, 1, 1, 1, 1, 1, 2, 1, 1, 2, 1, 2, 1, 1, 3, 1,\n",
              "        1, 1, 1, 1, 3, 1, 1, 1, 1, 1, 1, 2, 3, 4, 1, 1, 1, 2, 1, 2, 2, 1,\n",
              "        1, 3, 1, 2, 1, 1, 1, 1, 1, 2, 2, 1, 1, 2, 1, 3, 2, 1, 1, 3, 1, 4,\n",
              "        3, 1, 1, 1, 3, 1, 1, 1, 1, 1, 2, 1, 1, 2, 2, 1, 2, 2, 1, 1, 2, 2,\n",
              "        1, 2, 1, 2, 1, 1, 1, 1, 1, 1, 3, 1, 1, 1, 1, 1, 1, 2, 2, 2, 1, 3,\n",
              "        1, 2, 1, 1, 2, 1, 1, 2, 1, 2, 1, 3, 1, 1, 1, 2, 3, 2, 1, 1, 1, 2,\n",
              "        2, 1, 1, 3, 1, 1, 1, 1, 1, 1, 1, 2, 1, 1, 1, 2, 1, 1, 2, 1, 1, 1,\n",
              "        1, 1, 1, 2, 1, 2, 2, 1, 2, 1, 3, 2, 1, 1, 1, 1, 2, 1, 3, 1, 1, 1,\n",
              "        3, 1, 1, 1, 1, 1, 1, 1, 4, 1, 2, 1, 2, 2, 1, 4, 1, 2, 1, 1, 2, 1,\n",
              "        2, 1, 2, 1, 3, 1, 4, 1, 1, 1, 1, 1, 2, 2, 1, 2, 1, 2, 1, 1, 1, 1,\n",
              "        1, 1, 1, 2, 1, 1, 3, 2, 3, 1, 2, 1, 3, 2, 1, 1, 1, 1, 1, 2, 2, 1,\n",
              "        3, 1, 1, 2, 1, 1, 4, 2, 2, 1, 1, 1, 2, 1, 1, 1, 1, 1, 1, 1, 1, 1,\n",
              "        1, 2, 2, 1, 1, 1, 2, 1, 1, 1, 1, 2, 1, 2, 1, 1, 1, 1, 1, 3, 1, 2,\n",
              "        1, 1, 1, 1, 1, 1, 2, 2, 1, 1, 1, 1, 1, 3, 2, 3, 1, 1, 3, 1, 1, 1,\n",
              "        1, 2, 1, 1, 1, 2, 1, 2, 1, 1, 1, 2, 1, 2, 3, 1, 1, 1, 1, 1, 2, 3,\n",
              "        1, 2, 1, 2, 1, 1, 1, 2, 1, 1, 1, 1, 1, 2, 5, 2, 1, 2, 1, 3, 1, 2,\n",
              "        1, 1, 3, 1, 1, 1, 1, 3, 3, 1, 1, 2, 1, 1, 3, 1, 3, 1, 3, 2, 3, 1,\n",
              "        1, 5, 2, 1, 3, 1, 1, 1, 1, 1, 2, 3, 1, 3, 1, 4, 1, 4, 1, 1, 1, 2,\n",
              "        2, 1, 1, 2, 2, 2, 1, 1, 1, 1, 4, 1, 1, 1, 3, 1, 2, 1, 1, 1, 3, 1,\n",
              "        1, 1, 3, 1, 2, 1, 1, 1, 2, 1, 3, 1, 2, 1, 4, 1, 1, 1, 1, 2, 1, 1,\n",
              "        1, 1, 1, 2, 1, 1, 3, 1, 1, 2, 1, 1, 1, 1, 1, 2, 1, 1, 1, 1, 2, 1,\n",
              "        1, 1, 3, 1, 2]),\n",
              " array([1, 1, 3, 2, 1, 3, 1, 3, 1, 1, 3, 1, 1, 1, 1, 2, 4, 1, 1, 1, 2, 1,\n",
              "        1, 1, 2, 3, 1, 2, 1, 3, 2, 1, 1, 3, 1, 1, 2, 2, 1, 2, 1, 1, 1, 1,\n",
              "        1, 4, 3, 3, 1, 1, 2, 4, 2, 1, 5, 3, 1, 2, 1, 2, 1, 1, 2, 2, 1, 1,\n",
              "        1, 4, 2, 1, 1, 1, 1, 1, 5, 3, 1, 2, 2, 2, 1, 1, 1, 3, 1, 2, 1, 1,\n",
              "        4, 1, 1, 1, 1, 1, 1, 1, 3, 1, 1, 1, 1, 4, 1, 3, 2, 2, 1, 1, 4, 1,\n",
              "        1, 2, 3, 1, 1, 1, 2, 1, 2, 5, 3, 1, 1, 3, 1, 2, 1, 1, 2, 1, 2, 2,\n",
              "        1, 2, 3, 3, 3, 3, 1, 1, 4, 1, 3, 4, 2, 1, 1, 2, 1, 1, 1, 1, 3, 1,\n",
              "        1, 5, 1, 2, 2, 1, 1, 3, 1, 1, 1, 2, 3, 1, 5, 1, 1, 1, 1, 1, 2, 2,\n",
              "        1, 3, 1, 2, 2, 1, 1, 1, 1, 3, 1, 1, 2, 3, 1, 1, 1, 1, 1, 1, 5, 1,\n",
              "        1, 1, 1, 1, 2, 2, 1, 1, 1, 3, 1, 1, 3, 1, 2, 1, 1, 2, 1, 1, 3, 1,\n",
              "        3, 2, 1, 4, 3, 1, 1, 1, 1, 5, 1, 3, 2, 3, 1, 4, 1, 2, 1, 1, 4, 4,\n",
              "        1, 1, 3, 3, 4, 1, 1, 1, 1, 1, 2, 1, 2, 2, 1, 2, 1, 2, 1, 1, 2, 1,\n",
              "        1, 1, 3, 1, 1, 1, 1, 2, 1, 1, 1, 1, 1, 1, 1, 3, 1, 1, 1, 1, 1, 5,\n",
              "        3, 1, 2, 1, 1, 2, 4, 1, 3, 1, 2, 2, 1, 3, 1, 2, 1, 3, 1, 1, 2, 4,\n",
              "        1, 5, 1, 3, 1, 2, 3, 1, 2, 5, 4, 1, 1, 3, 1, 1, 1, 1, 1, 1, 1, 1,\n",
              "        1, 2, 2, 1, 1, 3, 4, 1, 1, 1, 1, 1, 2, 5, 1, 1, 2, 1, 1, 1, 2, 1,\n",
              "        1, 4, 2, 5, 2, 1, 1, 1, 1, 1, 1, 1, 1, 1, 1, 1, 1, 3, 1, 3, 3, 1,\n",
              "        4, 1, 3, 1, 1, 3, 2, 1, 1, 4, 3, 3, 1, 2, 1, 1, 1, 1, 1, 1, 2, 1,\n",
              "        3, 1, 1, 1, 2, 2, 1, 1, 1, 1, 4, 1, 3, 4, 1, 1, 1, 1, 1, 1, 3, 1,\n",
              "        1, 1, 1, 2, 1, 3, 1, 1, 2, 1, 1, 1, 4, 1, 1, 1, 2, 2, 2, 4, 1, 1,\n",
              "        3, 1, 1, 2, 3, 3, 1, 1, 3, 1, 2, 2, 2, 1, 5, 2, 2, 2, 3, 1, 2, 2,\n",
              "        3, 1, 2, 2, 1, 2, 1, 1, 1, 3, 1, 1, 2, 3, 1, 1, 1, 1, 5, 3, 1, 2,\n",
              "        1, 1, 2, 1, 1, 1, 2, 2, 1, 1, 4, 5, 1, 2, 1, 2, 4, 2, 1, 1, 1, 2,\n",
              "        1, 1, 4, 1, 1, 2, 1, 2, 2, 1, 3, 3, 1, 1, 1, 2, 1, 3, 1, 4, 1, 1,\n",
              "        1, 1, 1, 2, 1, 4, 1, 2, 5, 1, 2, 2, 1, 2, 1, 2, 2, 1, 3, 1, 2, 1,\n",
              "        1, 1, 2, 1, 1, 2, 1, 3, 2, 2, 1, 1, 1, 3, 1, 1, 4, 1, 1, 1, 1, 1,\n",
              "        4, 6, 1, 2, 5, 1, 3, 2, 1, 2, 2, 2, 1, 3, 1, 2, 1, 1, 1, 3, 1, 1,\n",
              "        1, 1, 1, 4, 4, 1, 3, 1, 3, 2, 2, 1, 1, 1, 2, 2, 1, 2, 1, 1, 1, 2,\n",
              "        2, 2, 3, 1, 1, 3, 2, 1, 1, 2, 2, 1, 1, 1, 2, 1, 1, 1, 1, 1, 1, 4,\n",
              "        1, 3, 1, 3, 1, 2, 1, 4, 1, 1, 4, 4, 1, 1, 1, 1, 1, 1, 1, 1, 1, 1,\n",
              "        1, 1, 1, 2, 3, 2, 1, 1, 5, 1, 2, 1, 1, 4, 1, 1, 2, 1, 1, 3, 1, 2,\n",
              "        1, 3, 2, 2, 1, 2, 2, 3, 5, 1, 3, 1, 1, 2, 2, 1, 2, 1, 2, 1, 1, 2,\n",
              "        1, 3, 1, 1, 1, 4, 4, 1, 1, 3, 1, 2, 1, 1, 1, 1, 1, 1, 2, 1, 4, 3,\n",
              "        2, 2, 1, 1, 1, 1, 3, 1, 2, 4, 1, 2, 1, 1, 1, 1, 4, 4, 1, 1, 2, 1,\n",
              "        3, 1, 5, 1, 3, 1, 2, 1, 2, 1, 4, 1, 4, 1, 5, 5, 1, 1, 1, 1, 3, 5,\n",
              "        1, 3, 1, 1, 1, 1, 2, 4]),\n",
              " array([2, 2, 1, 2, 1, 2, 2, 3, 2, 1, 2, 1, 1, 1, 2, 1, 2, 1, 1, 2, 3, 1,\n",
              "        1, 3, 1, 1, 1, 2, 1, 5, 2, 1, 1, 2, 1, 2, 1, 2, 1, 1, 5, 1, 5, 1,\n",
              "        3, 2, 1, 2, 1, 2, 4, 1, 1, 3, 3, 1, 1, 2, 1, 2, 4, 1, 1, 2, 1, 1,\n",
              "        3, 1, 1, 6, 1, 1, 2, 4, 3, 1, 3, 2, 6, 2, 1, 4, 3, 2, 2, 1, 3, 1,\n",
              "        1, 1, 3, 2, 1, 3, 1, 4, 1, 1, 1, 1, 3, 1, 2, 2, 3, 2, 1, 1, 1, 1,\n",
              "        1, 2, 1, 4, 1, 1, 2, 1, 1, 5, 1, 1, 3, 2, 2, 1, 1, 1, 2, 1, 2, 4,\n",
              "        2, 1, 2, 1, 3, 1, 1, 3, 3, 1, 1, 3, 3, 1, 2, 1, 1, 1, 2, 1, 3, 1,\n",
              "        3, 2, 1, 2, 1, 1, 1, 1, 1, 2, 1, 1, 1, 1, 2, 1, 1, 1, 2, 1, 1, 3,\n",
              "        1, 3, 2, 1, 1, 1, 3, 1, 2, 1, 3, 1, 2, 1, 1, 1, 3, 5, 4, 1, 1, 1,\n",
              "        1, 1, 2, 1, 1, 2, 2, 2, 1, 1, 2, 2, 2, 2, 1, 2, 1, 1, 2, 1, 1, 4,\n",
              "        2, 1, 3, 1, 1, 1, 2, 2, 1, 1, 1, 1, 1, 1, 1, 1, 3, 2, 1, 1, 2, 2,\n",
              "        1, 4, 2, 1, 3, 1, 1, 1, 3, 1, 1, 3, 1, 2, 1, 1, 1, 3, 1, 3, 1, 3,\n",
              "        1, 2, 1, 1, 3, 1, 4, 2, 1, 4, 1, 1, 2, 1, 2, 1, 3, 1, 5, 1, 1, 1,\n",
              "        1, 1, 1, 1, 2, 1, 1, 4, 1, 4, 2, 1, 4, 3, 3, 1, 3, 4, 2, 2, 1, 1,\n",
              "        2, 3, 3, 2, 1, 2, 2, 1, 1, 1, 1, 1, 2, 1, 2, 1, 2, 2, 1, 1, 3, 1,\n",
              "        1, 2, 1, 3, 1, 5, 2, 1, 2, 3]),\n",
              " array([2, 1, 4, 1, 1, 2, 1, 1, 2, 1, 4, 1, 2, 4, 1, 3, 1, 1, 1, 1, 1, 5,\n",
              "        1, 1, 5, 1, 1, 2, 1, 1, 2, 1, 2, 1, 1, 1, 1, 2, 1, 1, 1, 3, 1, 2,\n",
              "        1, 2, 1, 2, 1, 1, 4, 2, 1, 1, 1, 1, 1, 2, 2, 3, 2, 1, 1, 1, 1, 1,\n",
              "        3, 1, 1, 3, 1, 1, 3, 1, 1, 1, 4, 1, 1, 1, 1, 1, 3, 1, 1, 2, 1, 1,\n",
              "        1, 1, 1, 1, 1, 2, 1, 1, 1, 1, 1, 1, 2, 1, 1, 1, 1, 1, 1, 1, 5, 4,\n",
              "        1, 1, 1, 1, 2, 1, 1, 1, 4, 1, 1, 4, 1, 4, 1, 2, 2, 1, 1, 1, 2, 1,\n",
              "        1, 2, 1, 3, 1, 1, 3, 1, 1, 3, 1, 1, 3, 2, 1, 1, 1, 1, 1, 3, 1, 4,\n",
              "        1, 2, 3, 1, 2, 4, 1, 1, 1, 1, 1, 3, 1, 2, 1, 1, 1, 2, 3, 1, 1, 1,\n",
              "        1, 4, 1, 2, 1, 1, 5, 1, 1, 1, 1, 1, 3, 1, 1, 1, 1, 1, 1, 2, 2, 1,\n",
              "        1, 1, 4, 1, 1, 1, 1, 1, 1, 1, 1, 1, 1, 2, 1, 1, 1, 1, 1, 1, 3, 2,\n",
              "        1, 1, 2, 1, 3, 1, 1, 1, 3, 1, 1, 2, 1, 1, 3, 1, 1, 2, 1, 1, 1, 1,\n",
              "        2, 1, 1, 1, 2, 1, 4, 1, 1, 1, 1, 1, 2, 1, 2, 1, 2, 1, 5, 1, 1, 1,\n",
              "        1, 2, 2, 4, 1, 2, 1, 3, 1, 1, 1, 1, 1, 2, 1, 1, 3, 1, 1, 1, 1, 1,\n",
              "        2, 1, 1, 1, 1, 1, 2, 1, 2, 1, 1, 1, 2, 1, 1, 1, 1, 1, 2, 1, 2, 1,\n",
              "        1, 1, 1, 1, 2, 1, 1, 1, 1, 2, 1, 2, 1, 2, 1, 1, 1, 1, 1, 1, 1, 1,\n",
              "        1, 1, 1, 1, 1]),\n",
              " array([1, 1, 1, 1, 2, 2, 1, 4, 1, 1, 2, 1, 2, 1, 1, 2, 1, 2, 2, 1, 1, 1,\n",
              "        1, 2, 2, 1, 1, 1, 2, 1, 2, 1, 1, 2, 1, 3, 1, 2, 1, 1, 1, 1, 1, 1,\n",
              "        3, 1, 4, 1, 1, 3, 1, 1, 1, 1, 1, 1, 2, 1, 1, 2, 1, 1, 2, 1, 1, 1,\n",
              "        1, 1, 1, 1, 3, 1, 2, 1, 1, 1, 1, 1, 1, 2, 1, 3, 1, 4, 1, 1, 2, 1,\n",
              "        2, 1, 3, 1, 1, 1, 1, 1, 2, 2, 1, 1, 1, 3, 1, 1, 2, 1, 1, 1, 1, 1,\n",
              "        2, 2, 1, 2, 3, 1, 1, 2, 4, 1, 3, 1, 3, 3, 1, 4, 2, 1, 1, 2, 1, 4,\n",
              "        1, 2, 1, 1, 1, 3, 1, 4, 1, 3, 1, 2, 1, 1, 3, 1, 1, 1, 2, 1, 4, 1,\n",
              "        2, 2, 1, 1, 2, 2, 2, 1, 1, 3, 1, 1, 2, 1, 1, 3, 1, 2, 2, 1, 1, 1,\n",
              "        4, 1, 3, 1, 2, 1, 2, 1, 1, 1, 1, 1, 1, 1, 1, 2, 3, 1, 1, 2, 1, 1,\n",
              "        1, 2, 1, 2, 1, 1, 3, 1, 1, 1, 1, 2, 2, 1, 1, 1, 1, 1, 2, 1, 1, 1,\n",
              "        1, 1, 1, 1, 1, 1, 1, 1, 1, 1, 3, 1, 1, 1, 1, 1, 1, 1, 1, 1, 1, 1,\n",
              "        1, 1, 1, 1, 1, 1, 1, 1, 1, 1, 1, 3, 3, 1, 1, 1, 1, 1, 1, 2, 1, 1,\n",
              "        2, 3, 1, 1, 2, 1, 2, 2, 1, 2, 4, 1, 1, 1, 3, 1, 1, 1, 2, 1, 2, 1,\n",
              "        1, 1, 1, 1, 1, 2, 2, 1, 1, 1, 1, 1, 2, 2, 1, 1, 2, 3, 1, 3, 2, 1,\n",
              "        3, 3, 1, 4, 1, 1, 2, 1, 2, 4, 1, 1, 3, 2, 1, 2, 3, 4, 1, 3, 2, 1,\n",
              "        3, 4, 1, 1, 4, 1, 2, 2, 2, 4, 1, 2, 3, 1, 1, 3, 3, 2, 1, 5, 3, 4,\n",
              "        3, 1, 1, 2, 2, 4, 3, 1, 1, 1, 3, 1, 4, 1, 1, 2, 1, 1, 1, 2, 3, 1,\n",
              "        2, 1, 1, 4, 1, 2, 2, 1, 1, 1, 1, 3, 2, 1, 1, 2, 3, 1, 3, 1, 1, 3,\n",
              "        1, 1, 2, 1, 2, 1, 2, 2, 1, 1, 2, 1, 1, 4, 4, 2, 1, 4, 1, 4, 1, 4,\n",
              "        1, 1, 2, 1, 1, 1, 4, 1, 1, 1, 1, 1, 2, 3, 1, 1, 1, 2, 2, 1, 1, 1,\n",
              "        1, 1, 1, 2, 2, 2, 1, 3, 1, 1, 2, 1, 1, 1, 1, 1, 3, 1, 2, 3, 1, 1,\n",
              "        1, 3, 4, 1, 1, 1, 1, 1, 3, 1, 2, 2, 4, 1, 1, 1, 2, 1, 5, 1, 1, 2,\n",
              "        1, 3, 1, 1, 2, 1, 2, 3, 5, 4, 2, 1, 1, 1, 4, 1, 3, 1, 1, 1, 1, 3,\n",
              "        2, 1, 2, 1, 2, 1, 4, 4, 2, 1, 1, 3, 1, 1, 2, 1, 3, 1, 1, 1, 1, 1,\n",
              "        1, 1, 2, 1, 2, 1, 3, 1, 3, 3, 1, 2, 2, 3, 1, 1, 1, 1, 1, 2, 2, 1,\n",
              "        4, 1, 2, 1, 1, 1, 4, 1, 2, 2, 1, 3, 3, 1, 3, 2, 1, 1, 2, 3, 1, 1,\n",
              "        1, 2, 1, 3, 1, 1, 1, 1, 1, 1, 1, 1, 1, 1, 1, 2, 2, 1, 1, 1, 2, 1,\n",
              "        2, 1, 2, 1, 2, 1, 3, 1, 1, 3, 1, 2, 1, 1, 2, 1, 1, 2, 1, 2, 1, 1,\n",
              "        1, 1, 1, 1, 1, 1, 1, 2, 1, 1, 2, 2, 1, 1, 2, 1, 1, 3, 1, 2, 1, 1,\n",
              "        2, 3, 1, 5, 1, 1, 3, 2, 1, 1, 1, 1, 1, 2, 1, 1, 2, 3, 1, 1, 1, 1,\n",
              "        1, 1, 1, 2, 1, 2, 1, 1, 1, 1, 1, 2, 1, 1, 1, 1, 1, 1, 1, 2, 1, 1,\n",
              "        3, 1, 1, 2, 2, 2, 1, 4, 1, 1, 1, 4, 1, 4, 1, 1, 1, 1, 1, 1, 1, 2,\n",
              "        3, 1, 1, 2, 1, 2, 1, 1, 1, 1, 1, 1, 1, 2, 1, 1, 2, 1, 2, 1, 1, 2,\n",
              "        1, 2, 1, 2, 1, 1, 2, 2, 1, 3, 1, 1, 1, 1, 1, 1, 2, 1, 3, 1, 1, 2,\n",
              "        1, 3, 1, 1, 1, 1, 2, 2, 2, 1, 1, 1, 1, 1, 1, 2, 1, 2, 2, 1, 1, 1,\n",
              "        3, 1, 1, 2, 2, 1, 1, 1, 1, 1, 1, 1, 1, 1, 1, 2, 1, 3, 1, 1, 1, 1,\n",
              "        1, 1, 1, 1, 1, 1, 1, 1, 1, 1, 1, 1, 1, 1, 1, 1, 2, 1, 1, 1, 2, 4,\n",
              "        1, 2, 1, 1, 3, 1, 4, 1, 2, 1, 1, 3, 1, 1, 2, 1, 1, 1, 1, 1, 3, 2,\n",
              "        1, 1, 2, 1, 2, 3, 1, 1, 3, 1, 1, 2, 1, 1, 1, 1, 2, 1, 1, 2, 1, 2,\n",
              "        2, 1, 1, 3, 1, 2, 1, 1, 2, 1, 1, 1, 5, 1, 1, 2, 2, 1, 1, 2, 1, 1,\n",
              "        2, 3, 1, 1, 2, 1, 2, 1, 3, 1, 1, 3, 3, 1, 1, 3, 1, 2, 1, 2])]"
            ]
          },
          "metadata": {
            "tags": []
          },
          "execution_count": 96
        }
      ]
    },
    {
      "cell_type": "code",
      "metadata": {
        "id": "ZM9bY4gNawrf",
        "colab_type": "code",
        "outputId": "db426f14-370b-4906-8331-dc8765ece302",
        "colab": {
          "base_uri": "https://localhost:8080/",
          "height": 282
        }
      },
      "source": [
        "import seaborn \n",
        "\n",
        "# Looking at syllables by word (in order)\n",
        "seaborn.lineplot(x=range(0,len(finalFile)),y=finalFile['syllables'])"
      ],
      "execution_count": 0,
      "outputs": [
        {
          "output_type": "execute_result",
          "data": {
            "text/plain": [
              "<matplotlib.axes._subplots.AxesSubplot at 0x7f2be32cdc50>"
            ]
          },
          "metadata": {
            "tags": []
          },
          "execution_count": 78
        },
        {
          "output_type": "display_data",
          "data": {
            "image/png": "[encoded data removed]",
            "text/plain": [
              "<Figure size 432x288 with 1 Axes>"
            ]
          },
          "metadata": {
            "tags": []
          }
        }
      ]
    },
    {
      "cell_type": "code",
      "metadata": {
        "id": "kBI_faoLb3_h",
        "colab_type": "code",
        "outputId": "ad694df7-4fcb-4d8a-81fd-88fcfde27362",
        "colab": {
          "base_uri": "https://localhost:8080/",
          "height": 68
        }
      },
      "source": [
        "functionColumns = ['syllables', 'words']\n",
        "concatColumns = ['phones','stresses', 'text']\n",
        "aggdf = aggLevel(df, functionColumns, grain, concatColumns)\n",
        "\n",
        "\n",
        "\n",
        "listOfStresses = [item for sublist in aggdf['stresses'].tolist() for item in sublist]\n",
        "listOfStresses = [int(value) for value in listOfStresses if value != ' ']"
      ],
      "execution_count": 0,
      "outputs": [
        {
          "output_type": "stream",
          "text": [
            "phones\n",
            "stresses\n",
            "text\n"
          ],
          "name": "stdout"
        }
      ]
    }
  ]
}